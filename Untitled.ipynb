{
 "cells": [
  {
   "cell_type": "code",
   "execution_count": 1,
   "id": "9280b107",
   "metadata": {},
   "outputs": [],
   "source": [
    "a = 'hello World'"
   ]
  },
  {
   "cell_type": "code",
   "execution_count": 2,
   "id": "107de6bd",
   "metadata": {},
   "outputs": [
    {
     "data": {
      "text/plain": [
       "'hello World'"
      ]
     },
     "execution_count": 2,
     "metadata": {},
     "output_type": "execute_result"
    }
   ],
   "source": [
    "a"
   ]
  },
  {
   "cell_type": "code",
   "execution_count": 4,
   "id": "df01b23d",
   "metadata": {},
   "outputs": [
    {
     "data": {
      "text/plain": [
       "89.34"
      ]
     },
     "execution_count": 4,
     "metadata": {},
     "output_type": "execute_result"
    }
   ],
   "source": [
    "score= 89.34\n",
    "score"
   ]
  },
  {
   "cell_type": "code",
   "execution_count": 5,
   "id": "82648476",
   "metadata": {},
   "outputs": [],
   "source": [
    "var= 'hello how are you'"
   ]
  },
  {
   "cell_type": "code",
   "execution_count": 6,
   "id": "03aad608",
   "metadata": {},
   "outputs": [
    {
     "data": {
      "text/plain": [
       "str"
      ]
     },
     "execution_count": 6,
     "metadata": {},
     "output_type": "execute_result"
    }
   ],
   "source": [
    "type(var)"
   ]
  },
  {
   "cell_type": "code",
   "execution_count": 7,
   "id": "5dd4c648",
   "metadata": {},
   "outputs": [
    {
     "name": "stdout",
     "output_type": "stream",
     "text": [
      "10.5\n",
      "<class 'str'>\n"
     ]
    }
   ],
   "source": [
    "a='10.5'\n",
    "print(a)\n",
    "print(type(a))"
   ]
  },
  {
   "cell_type": "code",
   "execution_count": 8,
   "id": "87f9f3c3",
   "metadata": {},
   "outputs": [],
   "source": [
    "a=10\n",
    "A='dsfd'"
   ]
  },
  {
   "cell_type": "code",
   "execution_count": 9,
   "id": "ffa26b23",
   "metadata": {},
   "outputs": [
    {
     "name": "stdout",
     "output_type": "stream",
     "text": [
      "10\n",
      "dsfd\n"
     ]
    }
   ],
   "source": [
    "print(a)\n",
    "print(A)"
   ]
  },
  {
   "cell_type": "code",
   "execution_count": 10,
   "id": "4f3c46e5",
   "metadata": {},
   "outputs": [
    {
     "name": "stdout",
     "output_type": "stream",
     "text": [
      "dsfd\n"
     ]
    }
   ],
   "source": [
    "a=10\n",
    "a='dsfd'\n",
    "print(a) # latest value of a"
   ]
  },
  {
   "cell_type": "code",
   "execution_count": 11,
   "id": "61b4f4ab",
   "metadata": {},
   "outputs": [
    {
     "name": "stdout",
     "output_type": "stream",
     "text": [
      "9\n"
     ]
    }
   ],
   "source": [
    "a=4\n",
    "b=5\n",
    "c=a+b\n",
    "print(c)"
   ]
  },
  {
   "cell_type": "code",
   "execution_count": 17,
   "id": "22e31237",
   "metadata": {},
   "outputs": [
    {
     "name": "stdout",
     "output_type": "stream",
     "text": [
      "132\n"
     ]
    },
    {
     "data": {
      "text/plain": [
       "135"
      ]
     },
     "execution_count": 17,
     "metadata": {},
     "output_type": "execute_result"
    }
   ],
   "source": [
    "def sum(a,b):\n",
    "    c=a+b\n",
    "    print(a)\n",
    "    return c\n",
    "\n",
    "a=9\n",
    "b=7\n",
    "\n",
    "sum(132,3)"
   ]
  },
  {
   "cell_type": "markdown",
   "id": "84f1bd73",
   "metadata": {},
   "source": [
    "## Mutable - we can change it\n",
    "\n",
    "## Immutable - we cannot change"
   ]
  },
  {
   "cell_type": "code",
   "execution_count": 18,
   "id": "95c66027",
   "metadata": {},
   "outputs": [
    {
     "data": {
      "text/plain": [
       "int"
      ]
     },
     "execution_count": 18,
     "metadata": {},
     "output_type": "execute_result"
    }
   ],
   "source": [
    "var=2\n",
    "type(var)"
   ]
  },
  {
   "cell_type": "code",
   "execution_count": 19,
   "id": "5ce7a840",
   "metadata": {},
   "outputs": [
    {
     "data": {
      "text/plain": [
       "2.0"
      ]
     },
     "execution_count": 19,
     "metadata": {},
     "output_type": "execute_result"
    }
   ],
   "source": [
    "float(var)"
   ]
  },
  {
   "cell_type": "code",
   "execution_count": 20,
   "id": "91ec1f03",
   "metadata": {},
   "outputs": [
    {
     "data": {
      "text/plain": [
       "float"
      ]
     },
     "execution_count": 20,
     "metadata": {},
     "output_type": "execute_result"
    }
   ],
   "source": [
    "var1= float(var) # converting one data type to another\n",
    "type(var1)"
   ]
  },
  {
   "cell_type": "code",
   "execution_count": null,
   "id": "5b69c896",
   "metadata": {},
   "outputs": [],
   "source": [
    "CEILING \n",
    "FLOOR\n",
    "\n",
    "2.3---> 2- floor, 3- ceiling"
   ]
  },
  {
   "cell_type": "code",
   "execution_count": 21,
   "id": "6be0dc2d",
   "metadata": {},
   "outputs": [
    {
     "ename": "ValueError",
     "evalue": "invalid literal for int() with base 10: 's'",
     "output_type": "error",
     "traceback": [
      "\u001b[0;31m---------------------------------------------------------------------------\u001b[0m",
      "\u001b[0;31mValueError\u001b[0m                                Traceback (most recent call last)",
      "\u001b[0;32m<ipython-input-21-dc609df6bf7f>\u001b[0m in \u001b[0;36m<module>\u001b[0;34m\u001b[0m\n\u001b[0;32m----> 1\u001b[0;31m \u001b[0mint\u001b[0m\u001b[0;34m(\u001b[0m\u001b[0;34m's'\u001b[0m\u001b[0;34m)\u001b[0m\u001b[0;34m\u001b[0m\u001b[0;34m\u001b[0m\u001b[0m\n\u001b[0m",
      "\u001b[0;31mValueError\u001b[0m: invalid literal for int() with base 10: 's'"
     ]
    }
   ],
   "source": [
    "int('s')"
   ]
  },
  {
   "cell_type": "code",
   "execution_count": 22,
   "id": "b78f7bea",
   "metadata": {},
   "outputs": [
    {
     "data": {
      "text/plain": [
       "123"
      ]
     },
     "execution_count": 22,
     "metadata": {},
     "output_type": "execute_result"
    }
   ],
   "source": [
    "int('123')"
   ]
  },
  {
   "cell_type": "code",
   "execution_count": 23,
   "id": "3588fd63",
   "metadata": {},
   "outputs": [
    {
     "data": {
      "text/plain": [
       "2.3"
      ]
     },
     "execution_count": 23,
     "metadata": {},
     "output_type": "execute_result"
    }
   ],
   "source": [
    "# convert a float value inside string variable to integer\n",
    "\n",
    "float('2.3')"
   ]
  },
  {
   "cell_type": "code",
   "execution_count": 24,
   "id": "f53a240a",
   "metadata": {},
   "outputs": [
    {
     "data": {
      "text/plain": [
       "2"
      ]
     },
     "execution_count": 24,
     "metadata": {},
     "output_type": "execute_result"
    }
   ],
   "source": [
    "int(float(2.3))"
   ]
  },
  {
   "cell_type": "code",
   "execution_count": 25,
   "id": "f6f23bd7",
   "metadata": {},
   "outputs": [],
   "source": [
    "var1='hello'"
   ]
  },
  {
   "cell_type": "code",
   "execution_count": 26,
   "id": "6790f2ca",
   "metadata": {},
   "outputs": [
    {
     "data": {
      "text/plain": [
       "'h'"
      ]
     },
     "execution_count": 26,
     "metadata": {},
     "output_type": "execute_result"
    }
   ],
   "source": [
    "var1[0]"
   ]
  },
  {
   "cell_type": "code",
   "execution_count": 29,
   "id": "d136f647",
   "metadata": {},
   "outputs": [
    {
     "ename": "TypeError",
     "evalue": "'str' object does not support item assignment",
     "output_type": "error",
     "traceback": [
      "\u001b[0;31m---------------------------------------------------------------------------\u001b[0m",
      "\u001b[0;31mTypeError\u001b[0m                                 Traceback (most recent call last)",
      "\u001b[0;32m<ipython-input-29-012585f703c9>\u001b[0m in \u001b[0;36m<module>\u001b[0;34m\u001b[0m\n\u001b[1;32m      1\u001b[0m \u001b[0mstring\u001b[0m\u001b[0;34m=\u001b[0m\u001b[0;34m'asd'\u001b[0m\u001b[0;34m\u001b[0m\u001b[0;34m\u001b[0m\u001b[0m\n\u001b[0;32m----> 2\u001b[0;31m \u001b[0mstring\u001b[0m\u001b[0;34m[\u001b[0m\u001b[0;36m1\u001b[0m\u001b[0;34m]\u001b[0m\u001b[0;34m=\u001b[0m\u001b[0;34m'w'\u001b[0m\u001b[0;34m\u001b[0m\u001b[0;34m\u001b[0m\u001b[0m\n\u001b[0m",
      "\u001b[0;31mTypeError\u001b[0m: 'str' object does not support item assignment"
     ]
    }
   ],
   "source": [
    "string='asd'\n",
    "string[1]='w' #string immutable "
   ]
  },
  {
   "cell_type": "code",
   "execution_count": 36,
   "id": "3de99196",
   "metadata": {},
   "outputs": [
    {
     "data": {
      "text/plain": [
       "3.3333333333333335"
      ]
     },
     "execution_count": 36,
     "metadata": {},
     "output_type": "execute_result"
    }
   ],
   "source": [
    "a=10\n",
    "b=3\n",
    "\n",
    "a/b"
   ]
  },
  {
   "cell_type": "code",
   "execution_count": 37,
   "id": "a25f7405",
   "metadata": {},
   "outputs": [
    {
     "data": {
      "text/plain": [
       "3"
      ]
     },
     "execution_count": 37,
     "metadata": {},
     "output_type": "execute_result"
    }
   ],
   "source": [
    "a//b #o/p is FLOOR OF division part"
   ]
  },
  {
   "cell_type": "code",
   "execution_count": 38,
   "id": "8b7af382",
   "metadata": {},
   "outputs": [
    {
     "name": "stdout",
     "output_type": "stream",
     "text": [
      "11.857142857142858\n"
     ]
    }
   ],
   "source": [
    "print((4*5)-9+6/7) # bracket solved first"
   ]
  },
  {
   "cell_type": "code",
   "execution_count": 39,
   "id": "f1d4fb9b",
   "metadata": {},
   "outputs": [
    {
     "data": {
      "text/plain": [
       "0.8571428571428571"
      ]
     },
     "execution_count": 39,
     "metadata": {},
     "output_type": "execute_result"
    }
   ],
   "source": [
    "6/7"
   ]
  },
  {
   "cell_type": "markdown",
   "id": "d577560b",
   "metadata": {},
   "source": [
    "## TUPLES\n",
    "\n",
    "## Ordered sequence of mixed data types (can have multiple data types)"
   ]
  },
  {
   "cell_type": "code",
   "execution_count": 41,
   "id": "1fcd9c82",
   "metadata": {},
   "outputs": [
    {
     "data": {
      "text/plain": [
       "tuple"
      ]
     },
     "execution_count": 41,
     "metadata": {},
     "output_type": "execute_result"
    }
   ],
   "source": [
    "t=(2,3,4,5)\n",
    "type(t)"
   ]
  },
  {
   "cell_type": "code",
   "execution_count": 42,
   "id": "1bd0e5e4",
   "metadata": {},
   "outputs": [
    {
     "data": {
      "text/plain": [
       "list"
      ]
     },
     "execution_count": 42,
     "metadata": {},
     "output_type": "execute_result"
    }
   ],
   "source": [
    "a=[2,4,5,6]\n",
    "type(a)"
   ]
  },
  {
   "cell_type": "code",
   "execution_count": 44,
   "id": "be863da3",
   "metadata": {},
   "outputs": [
    {
     "data": {
      "text/plain": [
       "5"
      ]
     },
     "execution_count": 44,
     "metadata": {},
     "output_type": "execute_result"
    }
   ],
   "source": [
    "a=('324',43,4,2,1)\n",
    "len(a)"
   ]
  },
  {
   "cell_type": "code",
   "execution_count": 45,
   "id": "f3eac860",
   "metadata": {},
   "outputs": [],
   "source": [
    "a=('asd',3,24,5,2,[234,234,324,1])\n",
    "\n",
    "# LIST inside tuple\n",
    "# accessing elements in tuple-- same as string"
   ]
  },
  {
   "cell_type": "code",
   "execution_count": 47,
   "id": "ffdcda05",
   "metadata": {},
   "outputs": [
    {
     "data": {
      "text/plain": [
       "24"
      ]
     },
     "execution_count": 47,
     "metadata": {},
     "output_type": "execute_result"
    }
   ],
   "source": [
    "a[2]"
   ]
  },
  {
   "cell_type": "code",
   "execution_count": 50,
   "id": "8f903fe2",
   "metadata": {},
   "outputs": [
    {
     "data": {
      "text/plain": [
       "[234, 234, 324, 1]"
      ]
     },
     "execution_count": 50,
     "metadata": {},
     "output_type": "execute_result"
    }
   ],
   "source": [
    "a[5]"
   ]
  },
  {
   "cell_type": "code",
   "execution_count": 51,
   "id": "bc86eccf",
   "metadata": {},
   "outputs": [
    {
     "data": {
      "text/plain": [
       "234"
      ]
     },
     "execution_count": 51,
     "metadata": {},
     "output_type": "execute_result"
    }
   ],
   "source": [
    "a[5][1]"
   ]
  },
  {
   "cell_type": "code",
   "execution_count": 52,
   "id": "fa61c26d",
   "metadata": {},
   "outputs": [
    {
     "name": "stdout",
     "output_type": "stream",
     "text": [
      "(1, 2, 3, 4, 5)\n"
     ]
    }
   ],
   "source": [
    "# Anthe rway to define tuple\n",
    "\n",
    "t1=1,2,3,4,5\n",
    "print(t1)"
   ]
  },
  {
   "cell_type": "code",
   "execution_count": 53,
   "id": "4a2c808c",
   "metadata": {},
   "outputs": [
    {
     "data": {
      "text/plain": [
       "tuple"
      ]
     },
     "execution_count": 53,
     "metadata": {},
     "output_type": "execute_result"
    }
   ],
   "source": [
    "type(t1)"
   ]
  },
  {
   "cell_type": "code",
   "execution_count": 54,
   "id": "d8e5a5fa",
   "metadata": {},
   "outputs": [
    {
     "data": {
      "text/plain": [
       "int"
      ]
     },
     "execution_count": 54,
     "metadata": {},
     "output_type": "execute_result"
    }
   ],
   "source": [
    "t2=(1)\n",
    "type(t2)\n",
    "\n",
    "#tuple of 1 element=-- integer"
   ]
  },
  {
   "cell_type": "code",
   "execution_count": 56,
   "id": "82d0b245",
   "metadata": {},
   "outputs": [
    {
     "data": {
      "text/plain": [
       "tuple"
      ]
     },
     "execution_count": 56,
     "metadata": {},
     "output_type": "execute_result"
    }
   ],
   "source": [
    "t2=(1,) # add COMMA here for one elemnt tuple \n",
    "type(t2)"
   ]
  },
  {
   "cell_type": "code",
   "execution_count": 57,
   "id": "6f9deff0",
   "metadata": {},
   "outputs": [],
   "source": [
    "t = ('Mumbai',123,2,'Canada')"
   ]
  },
  {
   "cell_type": "code",
   "execution_count": 58,
   "id": "eeb0e5f5",
   "metadata": {},
   "outputs": [
    {
     "data": {
      "text/plain": [
       "'Mumbai'"
      ]
     },
     "execution_count": 58,
     "metadata": {},
     "output_type": "execute_result"
    }
   ],
   "source": [
    "t[0]"
   ]
  },
  {
   "cell_type": "code",
   "execution_count": 59,
   "id": "d76148ab",
   "metadata": {},
   "outputs": [
    {
     "data": {
      "text/plain": [
       "'Canada'"
      ]
     },
     "execution_count": 59,
     "metadata": {},
     "output_type": "execute_result"
    }
   ],
   "source": [
    "t[-1]"
   ]
  },
  {
   "cell_type": "code",
   "execution_count": 60,
   "id": "84836450",
   "metadata": {},
   "outputs": [
    {
     "data": {
      "text/plain": [
       "('Mumbai', 123)"
      ]
     },
     "execution_count": 60,
     "metadata": {},
     "output_type": "execute_result"
    }
   ],
   "source": [
    "t[0:2] "
   ]
  },
  {
   "cell_type": "code",
   "execution_count": 61,
   "id": "7aea15a2",
   "metadata": {},
   "outputs": [
    {
     "data": {
      "text/plain": [
       "('Mumbai', 123, 2, 'Canada')"
      ]
     },
     "execution_count": 61,
     "metadata": {},
     "output_type": "execute_result"
    }
   ],
   "source": [
    "t[0:]"
   ]
  },
  {
   "cell_type": "code",
   "execution_count": 62,
   "id": "144bc397",
   "metadata": {},
   "outputs": [
    {
     "data": {
      "text/plain": [
       "(2, 'Canada')"
      ]
     },
     "execution_count": 62,
     "metadata": {},
     "output_type": "execute_result"
    }
   ],
   "source": [
    "t[2:]"
   ]
  },
  {
   "cell_type": "code",
   "execution_count": 65,
   "id": "b8375008",
   "metadata": {},
   "outputs": [
    {
     "data": {
      "text/plain": [
       "'Canada'"
      ]
     },
     "execution_count": 65,
     "metadata": {},
     "output_type": "execute_result"
    }
   ],
   "source": [
    "t[3]"
   ]
  },
  {
   "cell_type": "code",
   "execution_count": 67,
   "id": "5c4f0a6b",
   "metadata": {},
   "outputs": [
    {
     "data": {
      "text/plain": [
       "('HI', 'qweqw', 'qwe', 'Python', 'daf')"
      ]
     },
     "execution_count": 67,
     "metadata": {},
     "output_type": "execute_result"
    }
   ],
   "source": [
    "t1=(\"HI\",'qweqw','qwe')\n",
    "t2=(\"Python\",'daf')\n",
    "\n",
    "t1+t2"
   ]
  },
  {
   "cell_type": "code",
   "execution_count": 69,
   "id": "eed2420e",
   "metadata": {},
   "outputs": [
    {
     "data": {
      "text/plain": [
       "('HI', 'qweqw', 'qwe', 'Python', 'daf', 131)"
      ]
     },
     "execution_count": 69,
     "metadata": {},
     "output_type": "execute_result"
    }
   ],
   "source": [
    "t3=(\"HI\",'qweqw','qwe')\n",
    "t4=(\"Python\",'daf',131)\n",
    "\n",
    "t3+t4"
   ]
  },
  {
   "cell_type": "code",
   "execution_count": 70,
   "id": "0b260936",
   "metadata": {},
   "outputs": [
    {
     "data": {
      "text/plain": [
       "7"
      ]
     },
     "execution_count": 70,
     "metadata": {},
     "output_type": "execute_result"
    }
   ],
   "source": [
    "t5=('1231',1,312,1,41,31,'12312312')\n",
    "len(t5)"
   ]
  },
  {
   "cell_type": "code",
   "execution_count": 71,
   "id": "532f2e85",
   "metadata": {},
   "outputs": [
    {
     "ename": "TypeError",
     "evalue": "'>' not supported between instances of 'int' and 'str'",
     "output_type": "error",
     "traceback": [
      "\u001b[0;31m---------------------------------------------------------------------------\u001b[0m",
      "\u001b[0;31mTypeError\u001b[0m                                 Traceback (most recent call last)",
      "\u001b[0;32m<ipython-input-71-f6f6f0f7436f>\u001b[0m in \u001b[0;36m<module>\u001b[0;34m\u001b[0m\n\u001b[0;32m----> 1\u001b[0;31m \u001b[0mmax\u001b[0m\u001b[0;34m(\u001b[0m\u001b[0mt5\u001b[0m\u001b[0;34m)\u001b[0m\u001b[0;34m\u001b[0m\u001b[0;34m\u001b[0m\u001b[0m\n\u001b[0m",
      "\u001b[0;31mTypeError\u001b[0m: '>' not supported between instances of 'int' and 'str'"
     ]
    }
   ],
   "source": [
    "max(t5)"
   ]
  },
  {
   "cell_type": "code",
   "execution_count": null,
   "id": "67346589",
   "metadata": {},
   "outputs": [],
   "source": []
  },
  {
   "cell_type": "code",
   "execution_count": null,
   "id": "8fb3393e",
   "metadata": {},
   "outputs": [],
   "source": []
  },
  {
   "cell_type": "code",
   "execution_count": 72,
   "id": "2c5bafe7",
   "metadata": {},
   "outputs": [],
   "source": [
    "t6=('1231',1,312,1,41,31,'12312312')"
   ]
  },
  {
   "cell_type": "code",
   "execution_count": 73,
   "id": "ac7e0556",
   "metadata": {},
   "outputs": [
    {
     "ename": "TypeError",
     "evalue": "'tuple' object is not callable",
     "output_type": "error",
     "traceback": [
      "\u001b[0;31m---------------------------------------------------------------------------\u001b[0m",
      "\u001b[0;31mTypeError\u001b[0m                                 Traceback (most recent call last)",
      "\u001b[0;32m<ipython-input-73-486ed2aeb5c7>\u001b[0m in \u001b[0;36m<module>\u001b[0;34m\u001b[0m\n\u001b[0;32m----> 1\u001b[0;31m \u001b[0mt6\u001b[0m\u001b[0;34m(\u001b[0m\u001b[0;36m3\u001b[0m\u001b[0;34m)\u001b[0m\u001b[0;34m\u001b[0m\u001b[0;34m\u001b[0m\u001b[0m\n\u001b[0m",
      "\u001b[0;31mTypeError\u001b[0m: 'tuple' object is not callable"
     ]
    }
   ],
   "source": [
    "t6(3)"
   ]
  },
  {
   "cell_type": "code",
   "execution_count": 74,
   "id": "6d701011",
   "metadata": {},
   "outputs": [
    {
     "data": {
      "text/plain": [
       "1"
      ]
     },
     "execution_count": 74,
     "metadata": {},
     "output_type": "execute_result"
    }
   ],
   "source": [
    "t6[3]"
   ]
  },
  {
   "cell_type": "code",
   "execution_count": 75,
   "id": "f670b469",
   "metadata": {},
   "outputs": [
    {
     "ename": "TypeError",
     "evalue": "'tuple' object does not support item assignment",
     "output_type": "error",
     "traceback": [
      "\u001b[0;31m---------------------------------------------------------------------------\u001b[0m",
      "\u001b[0;31mTypeError\u001b[0m                                 Traceback (most recent call last)",
      "\u001b[0;32m<ipython-input-75-f9be992451d7>\u001b[0m in \u001b[0;36m<module>\u001b[0;34m\u001b[0m\n\u001b[0;32m----> 1\u001b[0;31m \u001b[0mt6\u001b[0m\u001b[0;34m[\u001b[0m\u001b[0;36m1\u001b[0m\u001b[0;34m]\u001b[0m\u001b[0;34m=\u001b[0m\u001b[0;34m'234'\u001b[0m\u001b[0;34m\u001b[0m\u001b[0;34m\u001b[0m\u001b[0m\n\u001b[0m",
      "\u001b[0;31mTypeError\u001b[0m: 'tuple' object does not support item assignment"
     ]
    }
   ],
   "source": [
    "t6[1]='234'\n",
    "\n",
    "# IMMUTABILITY tuple cannot support assigment"
   ]
  },
  {
   "cell_type": "code",
   "execution_count": 76,
   "id": "a5d34eae",
   "metadata": {},
   "outputs": [
    {
     "ename": "TypeError",
     "evalue": "can only concatenate tuple (not \"str\") to tuple",
     "output_type": "error",
     "traceback": [
      "\u001b[0;31m---------------------------------------------------------------------------\u001b[0m",
      "\u001b[0;31mTypeError\u001b[0m                                 Traceback (most recent call last)",
      "\u001b[0;32m<ipython-input-76-6fedd528fcb3>\u001b[0m in \u001b[0;36m<module>\u001b[0;34m\u001b[0m\n\u001b[0;32m----> 1\u001b[0;31m \u001b[0mt7\u001b[0m \u001b[0;34m=\u001b[0m \u001b[0mt\u001b[0m\u001b[0;34m[\u001b[0m\u001b[0;36m0\u001b[0m\u001b[0;34m:\u001b[0m\u001b[0;36m3\u001b[0m\u001b[0;34m]\u001b[0m \u001b[0;34m+\u001b[0m \u001b[0;34m'asdasd'\u001b[0m \u001b[0;34m+\u001b[0m \u001b[0;34m'asdasd'\u001b[0m \u001b[0;34m+\u001b[0m \u001b[0mt6\u001b[0m\u001b[0;34m[\u001b[0m\u001b[0;34m-\u001b[0m\u001b[0;36m4\u001b[0m\u001b[0;34m]\u001b[0m\u001b[0;34m\u001b[0m\u001b[0;34m\u001b[0m\u001b[0m\n\u001b[0m",
      "\u001b[0;31mTypeError\u001b[0m: can only concatenate tuple (not \"str\") to tuple"
     ]
    }
   ],
   "source": [
    "t7 = t[0:3] + 'asdasd' + 'asdasd' + t6[-4]"
   ]
  },
  {
   "cell_type": "code",
   "execution_count": 79,
   "id": "91a01648",
   "metadata": {},
   "outputs": [
    {
     "ename": "TypeError",
     "evalue": "can only concatenate tuple (not \"int\") to tuple",
     "output_type": "error",
     "traceback": [
      "\u001b[0;31m---------------------------------------------------------------------------\u001b[0m",
      "\u001b[0;31mTypeError\u001b[0m                                 Traceback (most recent call last)",
      "\u001b[0;32m<ipython-input-79-9c4065641069>\u001b[0m in \u001b[0;36m<module>\u001b[0;34m\u001b[0m\n\u001b[0;32m----> 1\u001b[0;31m \u001b[0mt7\u001b[0m \u001b[0;34m=\u001b[0m \u001b[0mt6\u001b[0m\u001b[0;34m[\u001b[0m\u001b[0;36m0\u001b[0m\u001b[0;34m:\u001b[0m\u001b[0;36m3\u001b[0m\u001b[0;34m]\u001b[0m \u001b[0;34m+\u001b[0m \u001b[0;34m(\u001b[0m\u001b[0;34m'asdasd'\u001b[0m\u001b[0;34m,\u001b[0m\u001b[0;34m'asdasd'\u001b[0m\u001b[0;34m)\u001b[0m \u001b[0;34m+\u001b[0m \u001b[0mt6\u001b[0m\u001b[0;34m[\u001b[0m\u001b[0;34m-\u001b[0m\u001b[0;36m4\u001b[0m\u001b[0;34m]\u001b[0m\u001b[0;34m\u001b[0m\u001b[0;34m\u001b[0m\u001b[0m\n\u001b[0m",
      "\u001b[0;31mTypeError\u001b[0m: can only concatenate tuple (not \"int\") to tuple"
     ]
    }
   ],
   "source": [
    "t7 = t6[0:3] + ('asdasd','asdasd') + t6[-4]"
   ]
  },
  {
   "cell_type": "code",
   "execution_count": null,
   "id": "73bceb12",
   "metadata": {},
   "outputs": [],
   "source": []
  },
  {
   "cell_type": "code",
   "execution_count": null,
   "id": "0c33279c",
   "metadata": {},
   "outputs": [],
   "source": []
  },
  {
   "cell_type": "code",
   "execution_count": null,
   "id": "55fb8734",
   "metadata": {},
   "outputs": [],
   "source": []
  },
  {
   "cell_type": "code",
   "execution_count": null,
   "id": "91cc8403",
   "metadata": {},
   "outputs": [],
   "source": []
  },
  {
   "cell_type": "code",
   "execution_count": 85,
   "id": "1a8ecb5b",
   "metadata": {},
   "outputs": [
    {
     "name": "stdout",
     "output_type": "stream",
     "text": [
      "[0, 2, 4, 14, 51, 423]\n"
     ]
    },
    {
     "data": {
      "text/plain": [
       "list"
      ]
     },
     "execution_count": 85,
     "metadata": {},
     "output_type": "execute_result"
    }
   ],
   "source": [
    "t =(2,423,4,14,51,0)\n",
    "\n",
    "new_t= sorted(t)\n",
    "\n",
    "print(new_t)\n",
    "\n",
    "type(new_t)"
   ]
  },
  {
   "cell_type": "code",
   "execution_count": null,
   "id": "19987b52",
   "metadata": {},
   "outputs": [],
   "source": []
  },
  {
   "cell_type": "code",
   "execution_count": 86,
   "id": "90594c62",
   "metadata": {},
   "outputs": [],
   "source": [
    "t = (0,2,3,41,3)"
   ]
  },
  {
   "cell_type": "code",
   "execution_count": 87,
   "id": "75888398",
   "metadata": {},
   "outputs": [
    {
     "data": {
      "text/plain": [
       "3"
      ]
     },
     "execution_count": 87,
     "metadata": {},
     "output_type": "execute_result"
    }
   ],
   "source": [
    "t[4]"
   ]
  },
  {
   "cell_type": "code",
   "execution_count": 88,
   "id": "07b8f74b",
   "metadata": {},
   "outputs": [
    {
     "ename": "IndexError",
     "evalue": "tuple index out of range",
     "output_type": "error",
     "traceback": [
      "\u001b[0;31m---------------------------------------------------------------------------\u001b[0m",
      "\u001b[0;31mIndexError\u001b[0m                                Traceback (most recent call last)",
      "\u001b[0;32m<ipython-input-88-332e8dd8018d>\u001b[0m in \u001b[0;36m<module>\u001b[0;34m\u001b[0m\n\u001b[0;32m----> 1\u001b[0;31m \u001b[0mt\u001b[0m\u001b[0;34m[\u001b[0m\u001b[0;36m5\u001b[0m\u001b[0;34m]\u001b[0m\u001b[0;34m\u001b[0m\u001b[0;34m\u001b[0m\u001b[0m\n\u001b[0m",
      "\u001b[0;31mIndexError\u001b[0m: tuple index out of range"
     ]
    }
   ],
   "source": [
    "t[5]"
   ]
  },
  {
   "cell_type": "code",
   "execution_count": null,
   "id": "93d61a3e",
   "metadata": {},
   "outputs": [],
   "source": []
  },
  {
   "cell_type": "code",
   "execution_count": null,
   "id": "f11eb4e5",
   "metadata": {},
   "outputs": [],
   "source": []
  },
  {
   "cell_type": "markdown",
   "id": "4c8e4ee0",
   "metadata": {},
   "source": [
    "# List"
   ]
  },
  {
   "cell_type": "code",
   "execution_count": null,
   "id": "6827e335",
   "metadata": {},
   "outputs": [],
   "source": [
    "Tuple there then why list--- on the go we dont want to change data so we need tuple"
   ]
  },
  {
   "cell_type": "code",
   "execution_count": 89,
   "id": "16d27338",
   "metadata": {},
   "outputs": [],
   "source": [
    "list1=[1,312,'123123']"
   ]
  },
  {
   "cell_type": "code",
   "execution_count": 90,
   "id": "74125c05",
   "metadata": {},
   "outputs": [
    {
     "name": "stdout",
     "output_type": "stream",
     "text": [
      "[1, 312, '123123']\n"
     ]
    }
   ],
   "source": [
    "print(list1)"
   ]
  },
  {
   "cell_type": "code",
   "execution_count": 92,
   "id": "eaaa0090",
   "metadata": {},
   "outputs": [
    {
     "data": {
      "text/plain": [
       "5"
      ]
     },
     "execution_count": 92,
     "metadata": {},
     "output_type": "execute_result"
    }
   ],
   "source": [
    "list2=['123',123,'123123','q',[1231,123,'qw']]\n",
    "len(list2)"
   ]
  },
  {
   "cell_type": "code",
   "execution_count": 93,
   "id": "c6059cc5",
   "metadata": {},
   "outputs": [
    {
     "data": {
      "text/plain": [
       "[1231, 123, 'qw']"
      ]
     },
     "execution_count": 93,
     "metadata": {},
     "output_type": "execute_result"
    }
   ],
   "source": [
    "list2[-1]"
   ]
  },
  {
   "cell_type": "code",
   "execution_count": 94,
   "id": "9173195c",
   "metadata": {},
   "outputs": [
    {
     "data": {
      "text/plain": [
       "[1, 2, 3, 4, 5, 6, 7, 8]"
      ]
     },
     "execution_count": 94,
     "metadata": {},
     "output_type": "execute_result"
    }
   ],
   "source": [
    "list1=[1,2,3,4]\n",
    "list2=[5,6,7,8]\n",
    "\n",
    "list1+list2"
   ]
  },
  {
   "cell_type": "code",
   "execution_count": 95,
   "id": "ae958a8f",
   "metadata": {},
   "outputs": [
    {
     "data": {
      "text/plain": [
       "[1, 2, 3, 4, 'qeqw', 'qweqwe', 5, 6, 7, 8]"
      ]
     },
     "execution_count": 95,
     "metadata": {},
     "output_type": "execute_result"
    }
   ],
   "source": [
    "list1=[1,2,3,4,'qeqw','qweqwe']\n",
    "list2=[5,6,7,8]\n",
    "\n",
    "list1+list2"
   ]
  },
  {
   "cell_type": "code",
   "execution_count": null,
   "id": "71e2b533",
   "metadata": {},
   "outputs": [],
   "source": []
  },
  {
   "cell_type": "code",
   "execution_count": 96,
   "id": "4a5348aa",
   "metadata": {},
   "outputs": [
    {
     "data": {
      "text/plain": [
       "[1, 2, 3, 4, 'qeqw', 'qweqwe', 5, 6, 7, 8, 123123, 123]"
      ]
     },
     "execution_count": 96,
     "metadata": {},
     "output_type": "execute_result"
    }
   ],
   "source": [
    "list1=[1,2,3,4,'qeqw','qweqwe']\n",
    "list2=[5,6,7,8] + [123123,123]\n",
    "\n",
    "list1+list2"
   ]
  },
  {
   "cell_type": "code",
   "execution_count": 97,
   "id": "52dd7dab",
   "metadata": {},
   "outputs": [
    {
     "name": "stdout",
     "output_type": "stream",
     "text": [
      "False\n"
     ]
    }
   ],
   "source": [
    "list1=[1,2,3,4,'qeqw','qweqwe']\n",
    "list2=[5,6,7,8]\n",
    "\n",
    "list1+list2\n",
    "\n",
    "print('123' in list1)"
   ]
  },
  {
   "cell_type": "code",
   "execution_count": null,
   "id": "0df9a1eb",
   "metadata": {},
   "outputs": [],
   "source": []
  },
  {
   "cell_type": "code",
   "execution_count": 101,
   "id": "c62a60d5",
   "metadata": {},
   "outputs": [
    {
     "name": "stdout",
     "output_type": "stream",
     "text": [
      "False\n",
      "True\n"
     ]
    }
   ],
   "source": [
    "tuple1=(1,2,3,4,'qeqw','qweqwe')\n",
    "list2=[5,6,7,8]\n",
    "\n",
    "list1+list2\n",
    "\n",
    "print('123' in tuple1)\n",
    "print(2 in tuple1)"
   ]
  },
  {
   "cell_type": "code",
   "execution_count": 106,
   "id": "bbf540b2",
   "metadata": {},
   "outputs": [
    {
     "data": {
      "text/plain": [
       "[1, 2, 3, 4, 2, 234]"
      ]
     },
     "execution_count": 106,
     "metadata": {},
     "output_type": "execute_result"
    }
   ],
   "source": [
    "# EXTEND --- extends list-- provide new elements--- it extends the list\n",
    "\n",
    "list1=[1,2,3,4]\n",
    "list1.extend([2,234])\n",
    "\n",
    "list1"
   ]
  },
  {
   "cell_type": "code",
   "execution_count": null,
   "id": "71627792",
   "metadata": {},
   "outputs": [],
   "source": [
    "list1=[1,2,3,4]\n",
    "list1.extend([2,234])\n",
    "\n",
    "list1"
   ]
  },
  {
   "cell_type": "code",
   "execution_count": null,
   "id": "1fc99294",
   "metadata": {},
   "outputs": [],
   "source": []
  },
  {
   "cell_type": "code",
   "execution_count": null,
   "id": "3cdb84d2",
   "metadata": {},
   "outputs": [],
   "source": []
  },
  {
   "cell_type": "code",
   "execution_count": null,
   "id": "e2ae889f",
   "metadata": {},
   "outputs": [],
   "source": []
  },
  {
   "cell_type": "code",
   "execution_count": 109,
   "id": "517cd10a",
   "metadata": {},
   "outputs": [
    {
     "data": {
      "text/plain": [
       "[1, 2, 3, 4, 2]"
      ]
     },
     "execution_count": 109,
     "metadata": {},
     "output_type": "execute_result"
    }
   ],
   "source": [
    "#append\n",
    "\n",
    "list1=[1,2,3,4]\n",
    "list1.append(2)\n",
    "\n",
    "list1"
   ]
  },
  {
   "cell_type": "code",
   "execution_count": 110,
   "id": "01ed8f28",
   "metadata": {},
   "outputs": [
    {
     "data": {
      "text/plain": [
       "[1, 2, 3, 4, [2, 213]]"
      ]
     },
     "execution_count": 110,
     "metadata": {},
     "output_type": "execute_result"
    }
   ],
   "source": [
    "#append\n",
    "\n",
    "list1=[1,2,3,4]\n",
    "list1.append([2,213])\n",
    "\n",
    "list1"
   ]
  },
  {
   "cell_type": "code",
   "execution_count": null,
   "id": "a9ad1b95",
   "metadata": {},
   "outputs": [],
   "source": []
  },
  {
   "cell_type": "code",
   "execution_count": null,
   "id": "6455c48b",
   "metadata": {},
   "outputs": [],
   "source": []
  },
  {
   "cell_type": "markdown",
   "id": "53dd88a8",
   "metadata": {},
   "source": [
    "## Sorted( ) -- is a function\n",
    "\n",
    "## sort"
   ]
  },
  {
   "cell_type": "code",
   "execution_count": 116,
   "id": "12a5d2ee",
   "metadata": {},
   "outputs": [
    {
     "name": "stdout",
     "output_type": "stream",
     "text": [
      "['3asdsdsa', 'asds', 'sda']\n",
      "None\n"
     ]
    }
   ],
   "source": [
    "a=['sda','asds','3asdsdsa']\n",
    "b=a.sort()\n",
    "print(a)\n",
    "print(b)"
   ]
  },
  {
   "cell_type": "code",
   "execution_count": null,
   "id": "a588c992",
   "metadata": {},
   "outputs": [],
   "source": []
  },
  {
   "cell_type": "code",
   "execution_count": null,
   "id": "96adb289",
   "metadata": {},
   "outputs": [],
   "source": []
  },
  {
   "cell_type": "code",
   "execution_count": null,
   "id": "9d44ce62",
   "metadata": {},
   "outputs": [],
   "source": []
  },
  {
   "cell_type": "markdown",
   "id": "b7064ce7",
   "metadata": {},
   "source": [
    "## Shallow copy -- in mempry only one copy created and other is REFERENCING to that mempry location"
   ]
  },
  {
   "cell_type": "code",
   "execution_count": 119,
   "id": "036a3afd",
   "metadata": {},
   "outputs": [
    {
     "name": "stdout",
     "output_type": "stream",
     "text": [
      "['Mango', 'Orange']\n",
      "['Mango', 'Orange']\n"
     ]
    }
   ],
   "source": [
    "A=['Mango','Orange','Milk']\n",
    "B=A\n",
    "A.pop()\n",
    "print(A)\n",
    "print(B)\n",
    "\n",
    "# SHALOW COPY"
   ]
  },
  {
   "cell_type": "code",
   "execution_count": null,
   "id": "f241b79f",
   "metadata": {},
   "outputs": [],
   "source": []
  },
  {
   "cell_type": "code",
   "execution_count": null,
   "id": "97abfe55",
   "metadata": {},
   "outputs": [],
   "source": []
  },
  {
   "cell_type": "markdown",
   "id": "d19a953a",
   "metadata": {},
   "source": [
    "# DEEP copy/"
   ]
  },
  {
   "cell_type": "code",
   "execution_count": 120,
   "id": "e82504ca",
   "metadata": {},
   "outputs": [
    {
     "name": "stdout",
     "output_type": "stream",
     "text": [
      "['Mango', 'Orange']\n",
      "['Mango', 'Orange', 'Milk']\n"
     ]
    }
   ],
   "source": [
    "A=['Mango','Orange','Milk']\n",
    "B=A[:] #another object created in memory\n",
    "A.pop()\n",
    "print(A)\n",
    "print(B)"
   ]
  },
  {
   "cell_type": "code",
   "execution_count": 122,
   "id": "a5d66ea6",
   "metadata": {},
   "outputs": [
    {
     "ename": "TypeError",
     "evalue": "'str' object does not support item assignment",
     "output_type": "error",
     "traceback": [
      "\u001b[0;31m---------------------------------------------------------------------------\u001b[0m",
      "\u001b[0;31mTypeError\u001b[0m                                 Traceback (most recent call last)",
      "\u001b[0;32m<ipython-input-122-31908882004a>\u001b[0m in \u001b[0;36m<module>\u001b[0;34m\u001b[0m\n\u001b[1;32m      1\u001b[0m \u001b[0ms\u001b[0m\u001b[0;34m=\u001b[0m\u001b[0;34m'asd'\u001b[0m\u001b[0;34m\u001b[0m\u001b[0;34m\u001b[0m\u001b[0m\n\u001b[1;32m      2\u001b[0m \u001b[0ms\u001b[0m\u001b[0;34m[\u001b[0m\u001b[0;36m0\u001b[0m\u001b[0;34m]\u001b[0m\u001b[0;34m\u001b[0m\u001b[0;34m\u001b[0m\u001b[0m\n\u001b[0;32m----> 3\u001b[0;31m \u001b[0ms\u001b[0m\u001b[0;34m[\u001b[0m\u001b[0;36m0\u001b[0m\u001b[0;34m]\u001b[0m\u001b[0;34m=\u001b[0m\u001b[0;34m'g'\u001b[0m\u001b[0;34m\u001b[0m\u001b[0;34m\u001b[0m\u001b[0m\n\u001b[0m",
      "\u001b[0;31mTypeError\u001b[0m: 'str' object does not support item assignment"
     ]
    }
   ],
   "source": [
    "s='asd'\n",
    "s[0]\n",
    "s[0]='g'"
   ]
  },
  {
   "cell_type": "code",
   "execution_count": null,
   "id": "0662f8ba",
   "metadata": {},
   "outputs": [],
   "source": []
  },
  {
   "cell_type": "code",
   "execution_count": null,
   "id": "4856d9f6",
   "metadata": {},
   "outputs": [],
   "source": []
  },
  {
   "cell_type": "code",
   "execution_count": null,
   "id": "5295a26f",
   "metadata": {},
   "outputs": [],
   "source": []
  },
  {
   "cell_type": "code",
   "execution_count": 123,
   "id": "a7fa7582",
   "metadata": {},
   "outputs": [
    {
     "ename": "TypeError",
     "evalue": "can only concatenate tuple (not \"str\") to tuple",
     "output_type": "error",
     "traceback": [
      "\u001b[0;31m---------------------------------------------------------------------------\u001b[0m",
      "\u001b[0;31mTypeError\u001b[0m                                 Traceback (most recent call last)",
      "\u001b[0;32m<ipython-input-123-1635f56c253c>\u001b[0m in \u001b[0;36m<module>\u001b[0;34m\u001b[0m\n\u001b[1;32m      2\u001b[0m \u001b[0ma\u001b[0m\u001b[0;34m=\u001b[0m\u001b[0;34m'Python'\u001b[0m\u001b[0;34m\u001b[0m\u001b[0;34m\u001b[0m\u001b[0m\n\u001b[1;32m      3\u001b[0m \u001b[0;34m\u001b[0m\u001b[0m\n\u001b[0;32m----> 4\u001b[0;31m \u001b[0mt1\u001b[0m \u001b[0;34m=\u001b[0m \u001b[0mt\u001b[0m\u001b[0;34m+\u001b[0m\u001b[0ma\u001b[0m\u001b[0;34m\u001b[0m\u001b[0;34m\u001b[0m\u001b[0m\n\u001b[0m",
      "\u001b[0;31mTypeError\u001b[0m: can only concatenate tuple (not \"str\") to tuple"
     ]
    }
   ],
   "source": [
    "t = ('Monty Python','British',1969)\n",
    "a='Python'\n",
    "\n",
    "t1 = t+a"
   ]
  },
  {
   "cell_type": "code",
   "execution_count": 125,
   "id": "2e8de656",
   "metadata": {},
   "outputs": [
    {
     "data": {
      "text/plain": [
       "('Monty Python', 'British', 1969, 'Python')"
      ]
     },
     "execution_count": 125,
     "metadata": {},
     "output_type": "execute_result"
    }
   ],
   "source": [
    "t = ('Monty Python','British',1969)\n",
    "a='Python'\n",
    "\n",
    "t1 = t+(a,)\n",
    "\n",
    "t1"
   ]
  },
  {
   "cell_type": "code",
   "execution_count": null,
   "id": "1b5e0fb3",
   "metadata": {},
   "outputs": [],
   "source": []
  },
  {
   "cell_type": "code",
   "execution_count": null,
   "id": "587b296e",
   "metadata": {},
   "outputs": [],
   "source": []
  },
  {
   "cell_type": "markdown",
   "id": "99c87fd2",
   "metadata": {},
   "source": [
    "## Union-- Outer join\n",
    "\n",
    "## Intersection -- Inner join"
   ]
  },
  {
   "cell_type": "code",
   "execution_count": null,
   "id": "777706a5",
   "metadata": {},
   "outputs": [],
   "source": []
  }
 ],
 "metadata": {
  "kernelspec": {
   "display_name": "Python 3",
   "language": "python",
   "name": "python3"
  },
  "language_info": {
   "codemirror_mode": {
    "name": "ipython",
    "version": 3
   },
   "file_extension": ".py",
   "mimetype": "text/x-python",
   "name": "python",
   "nbconvert_exporter": "python",
   "pygments_lexer": "ipython3",
   "version": "3.8.8"
  }
 },
 "nbformat": 4,
 "nbformat_minor": 5
}
